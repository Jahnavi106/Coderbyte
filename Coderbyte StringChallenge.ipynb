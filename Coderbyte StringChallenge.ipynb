{
 "cells": [
  {
   "cell_type": "code",
   "execution_count": 44,
   "metadata": {},
   "outputs": [
    {
     "name": "stdout",
     "output_type": "stream",
     "text": [
      "1223335556\n",
      "true\n"
     ]
    }
   ],
   "source": [
    "def StringChallenge(strParam):\n",
    "    list=[]\n",
    "    list[:0]=strParam\n",
    "    strParam=\"false\"\n",
    "    l=len(list)\n",
    "    c=0\n",
    "    for i in range(l):\n",
    "        list[i]=int(list[i])\n",
    "    \n",
    "    for i in range(l):\n",
    "        for j in range(i,l-1):\n",
    "            if (list[j]!=list[j+1]):\n",
    "                c=0\n",
    "            else:\n",
    "                c+=1\n",
    "                if c==list[i]:\n",
    "                    strParam=\"true\"\n",
    "                    break\n",
    "    return strParam\n",
    "print(StringChallenge(input()))"
   ]
  },
  {
   "cell_type": "code",
   "execution_count": null,
   "metadata": {},
   "outputs": [],
   "source": []
  }
 ],
 "metadata": {
  "kernelspec": {
   "display_name": "Python 3",
   "language": "python",
   "name": "python3"
  },
  "language_info": {
   "codemirror_mode": {
    "name": "ipython",
    "version": 3
   },
   "file_extension": ".py",
   "mimetype": "text/x-python",
   "name": "python",
   "nbconvert_exporter": "python",
   "pygments_lexer": "ipython3",
   "version": "3.7.7"
  }
 },
 "nbformat": 4,
 "nbformat_minor": 4
}
